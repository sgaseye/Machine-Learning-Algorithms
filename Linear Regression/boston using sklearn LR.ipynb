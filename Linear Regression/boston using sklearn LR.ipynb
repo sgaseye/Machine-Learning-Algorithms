{
 "cells": [
  {
   "cell_type": "code",
   "execution_count": 3,
   "metadata": {},
   "outputs": [],
   "source": [
    "from sklearn.datasets import load_boston\n",
    "from sklearn.linear_model import LinearRegression\n",
    "from sklearn.model_selection import train_test_split"
   ]
  },
  {
   "cell_type": "code",
   "execution_count": 4,
   "metadata": {},
   "outputs": [
    {
     "name": "stdout",
     "output_type": "stream",
     "text": [
      "(506, 13)\n",
      "(506,)\n"
     ]
    }
   ],
   "source": [
    "boston = load_boston()\n",
    "\n",
    "X = boston.data\n",
    "Y = boston.target\n",
    "\n",
    "\n",
    "print(X.shape)\n",
    "print(Y.shape)"
   ]
  },
  {
   "cell_type": "code",
   "execution_count": 5,
   "metadata": {},
   "outputs": [],
   "source": [
    "X_Train,X_Test,Y_Train,Y_Test=train_test_split(X,Y,test_size=0.2)"
   ]
  },
  {
   "cell_type": "code",
   "execution_count": 6,
   "metadata": {},
   "outputs": [
    {
     "name": "stdout",
     "output_type": "stream",
     "text": [
      "(404, 13)\n",
      "(404,)\n",
      "(102, 13)\n",
      "(102,)\n"
     ]
    }
   ],
   "source": [
    "print(X_Train.shape)\n",
    "print(Y_Train.shape)\n",
    "print(X_Test.shape)\n",
    "print(Y_Test.shape)"
   ]
  },
  {
   "cell_type": "code",
   "execution_count": 7,
   "metadata": {},
   "outputs": [
    {
     "data": {
      "text/plain": [
       "LinearRegression(copy_X=True, fit_intercept=True, n_jobs=None, normalize=True)"
      ]
     },
     "execution_count": 7,
     "metadata": {},
     "output_type": "execute_result"
    }
   ],
   "source": [
    "LR = LinearRegression(normalize=True)\n",
    "LR.fit(X_Train,Y_Train)"
   ]
  },
  {
   "cell_type": "code",
   "execution_count": 8,
   "metadata": {},
   "outputs": [
    {
     "name": "stdout",
     "output_type": "stream",
     "text": [
      "[-9.80238784e-02  5.25470899e-02 -1.11480536e-02  2.53058408e+00\n",
      " -1.88054149e+01  3.30923758e+00  2.44508712e-02 -1.33203661e+00\n",
      "  3.26653712e-01 -1.26959032e-02 -8.90572487e-01  8.03102012e-03\n",
      " -5.75842013e-01]\n",
      "38.004146205852926\n"
     ]
    }
   ],
   "source": [
    "print(LR.coef_)\n",
    "print(LR.intercept_)"
   ]
  },
  {
   "cell_type": "code",
   "execution_count": 9,
   "metadata": {},
   "outputs": [
    {
     "name": "stdout",
     "output_type": "stream",
     "text": [
      "0.7452562153917096\n",
      "Training_score0.745256\n",
      "Testing_score0.709205\n"
     ]
    }
   ],
   "source": [
    "print(LR.score(X_Train,Y_Train))\n",
    "print(\"Training_score%4f\"%LR.score(X_Train,Y_Train))\n",
    "print(\"Testing_score%4f\"%LR.score(X_Test,Y_Test))"
   ]
  },
  {
   "cell_type": "code",
   "execution_count": null,
   "metadata": {},
   "outputs": [],
   "source": []
  }
 ],
 "metadata": {
  "kernelspec": {
   "display_name": "Python 3",
   "language": "python",
   "name": "python3"
  },
  "language_info": {
   "codemirror_mode": {
    "name": "ipython",
    "version": 3
   },
   "file_extension": ".py",
   "mimetype": "text/x-python",
   "name": "python",
   "nbconvert_exporter": "python",
   "pygments_lexer": "ipython3",
   "version": "3.7.5"
  }
 },
 "nbformat": 4,
 "nbformat_minor": 4
}
